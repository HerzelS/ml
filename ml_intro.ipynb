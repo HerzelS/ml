{
  "nbformat": 4,
  "nbformat_minor": 0,
  "metadata": {
    "colab": {
      "provenance": [],
      "authorship_tag": "ABX9TyNVZw5Gj2Gm9anYiEwI6fTJ",
      "include_colab_link": true
    },
    "kernelspec": {
      "name": "python3",
      "display_name": "Python 3"
    },
    "language_info": {
      "name": "python"
    }
  },
  "cells": [
    {
      "cell_type": "markdown",
      "metadata": {
        "id": "view-in-github",
        "colab_type": "text"
      },
      "source": [
        "<a href=\"https://colab.research.google.com/github/HerzelS/ml/blob/main/ml_intro.ipynb\" target=\"_parent\"><img src=\"https://colab.research.google.com/assets/colab-badge.svg\" alt=\"Open In Colab\"/></a>"
      ]
    },
    {
      "cell_type": "code",
      "execution_count": 1,
      "metadata": {
        "id": "WIOxT-Qbl1cr"
      },
      "outputs": [],
      "source": [
        "import numpy as np\n",
        "import pandas as pd\n",
        "import matplotlib.pyplot as plt"
      ]
    },
    {
      "cell_type": "markdown",
      "source": [
        "Markelle Kelly, Rachel Longjohn, Kolby Nottingham,\n",
        "The UCI Machine Learning Repository, https://archive.ics.uci.edu"
      ],
      "metadata": {
        "id": "nJC4lPRXsgnx"
      }
    },
    {
      "cell_type": "code",
      "source": [
        "# Create column names from a string\n",
        "cols = \"fLength fWidth fSize fConc fConc1 fAsym fM3Long fM3Trans fAlpha fDist class\"\n",
        "cols = cols.split()\n",
        "print(cols)\n"
      ],
      "metadata": {
        "colab": {
          "base_uri": "https://localhost:8080/"
        },
        "id": "TiLmkuvdnUHR",
        "outputId": "13790b76-9059-486c-ade6-33f1350dfb88"
      },
      "execution_count": 8,
      "outputs": [
        {
          "output_type": "stream",
          "name": "stdout",
          "text": [
            "['fLength', 'fWidth', 'fSize', 'fConc', 'fConc1', 'fAsym', 'fM3Long', 'fM3Trans', 'fAlpha', 'fDist', 'class']\n"
          ]
        }
      ]
    },
    {
      "cell_type": "code",
      "source": [
        "df = pd.read_csv(\"magic04.data\", names = cols)\n",
        "#df.head()"
      ],
      "metadata": {
        "id": "zAS0JK1kmRpX"
      },
      "execution_count": 14,
      "outputs": []
    },
    {
      "cell_type": "code",
      "source": [
        "df[\"class\"].unique()"
      ],
      "metadata": {
        "colab": {
          "base_uri": "https://localhost:8080/"
        },
        "id": "5-JyGEc6ooHm",
        "outputId": "ff3ff66d-2d64-40d7-c059-7b0a7767ab64"
      },
      "execution_count": 15,
      "outputs": [
        {
          "output_type": "execute_result",
          "data": {
            "text/plain": [
              "array(['g', 'h'], dtype=object)"
            ]
          },
          "metadata": {},
          "execution_count": 15
        }
      ]
    },
    {
      "cell_type": "code",
      "source": [
        "# Change class to integers\n",
        "df[\"class\"] = (df[\"class\"] == \"g\").astype(int)"
      ],
      "metadata": {
        "id": "YM-BPtyfouJZ"
      },
      "execution_count": 16,
      "outputs": []
    },
    {
      "cell_type": "code",
      "source": [],
      "metadata": {
        "id": "fcqA1HtfpMq9"
      },
      "execution_count": null,
      "outputs": []
    },
    {
      "cell_type": "markdown",
      "source": [
        "# **Types of Machine Learning**\n",
        "1. **Supervised Learning** - uses labeled inputs (meaning the input has a corresponding output label) to train models and learn outputs\n",
        "2. **Unsupervised learning** - uses unlabeled data to learn about patterns in data\n",
        "3. **Reinforcement learning** - agent learning in interactive environment based on rewards and penalties."
      ],
      "metadata": {
        "id": "Sg-zC4QdpiQE"
      }
    },
    {
      "cell_type": "markdown",
      "source": [
        "# Supervised Learning"
      ],
      "metadata": {
        "id": "L0ScbPKTqyuJ"
      }
    },
    {
      "cell_type": "markdown",
      "source": [
        "**Features**\n",
        "Qualitative - categorical data (finite number of categories or groups) i.e. nominal data or ordinal data - inherently ordered\n",
        "\n",
        "We input it using ONE-HOT ENCODING for nominal and odering for ordinal\n",
        "\n",
        "Quantitative - numerical valued data - can be continuous or discrete"
      ],
      "metadata": {
        "id": "bUQXtLOmq9RI"
      }
    },
    {
      "cell_type": "markdown",
      "source": [
        "Spervised learning Tasks\n",
        "1. Classification - predict discrete classes can be binary or multiclass classification\n",
        "2. Regression - predict continuous values"
      ],
      "metadata": {
        "id": "miCEV97Ar8QH"
      }
    },
    {
      "cell_type": "code",
      "source": [],
      "metadata": {
        "id": "yvMwI0hxpwvh"
      },
      "execution_count": null,
      "outputs": []
    }
  ]
}